{
 "cells": [
  {
   "cell_type": "code",
   "execution_count": null,
   "metadata": {},
   "outputs": [],
   "source": [
    "from benchmark import Benchmark\n",
    "\n",
    "bm = Benchmark('Fresnel Propagation', 'N', [2**i for i in range(6, 13)], t_min=0.3)"
   ]
  },
  {
   "cell_type": "code",
   "execution_count": null,
   "metadata": {},
   "outputs": [],
   "source": [
    "# Physical parameters\n",
    "diameter = 20e-3  # m\n",
    "pupil_diameter = 10e-3\n",
    "wavelength = 632e-9 # m\n",
    "distance = 1  # m\n",
    "\n",
    "# Numerical parameters\n",
    "N = 512"
   ]
  },
  {
   "cell_type": "code",
   "execution_count": null,
   "metadata": {},
   "outputs": [],
   "source": [
    "import hcipy\n",
    "\n",
    "def fresnel_hcipy(it, N):\n",
    "    pupil_grid = hcipy.make_pupil_grid(N, diameter=diameter)\n",
    "\n",
    "    aperture = hcipy.make_circular_aperture(diameter=pupil_diameter)(pupil_grid)\n",
    "    wf = hcipy.Wavefront(aperture, wavelength)\n",
    "\n",
    "    prop = hcipy.FresnelPropagator(pupil_grid, distance, num_oversampling=1, zero_padding=1)\n",
    "\n",
    "    for _ in it:\n",
    "        wf_out = prop(wf)\n",
    "\n",
    "    return wf_out.intensity\n",
    "\n",
    "bm.run(fresnel_hcipy, 'hcipy')"
   ]
  },
  {
   "cell_type": "code",
   "execution_count": null,
   "metadata": {},
   "outputs": [],
   "source": [
    "from prysm.coordinates import make_xy_grid, cart_to_polar\n",
    "from prysm.geometry import circle\n",
    "from prysm.propagation import Wavefront, angular_spectrum_transfer_function\n",
    "\n",
    "def fresnel_prysm(it, N):\n",
    "    xi, eta = make_xy_grid(N, diameter=diameter * 1e3)\n",
    "\n",
    "    r, t = cart_to_polar(xi, eta)\n",
    "    A = circle(pupil_diameter * 1e3 / 2, r)\n",
    "\n",
    "    dx = xi[0, 1] - xi[0, 0]\n",
    "\n",
    "    wf = Wavefront.from_amp_and_phase(A, None, wavelength * 1e6, dx)\n",
    "\n",
    "    tf = angular_spectrum_transfer_function(N, wavelength * 1e6, dx, distance)\n",
    "\n",
    "    for _ in it:\n",
    "        wt_out = wf.free_space(tf=tf)\n",
    "\n",
    "bm.run(fresnel_prysm, 'prysm')"
   ]
  },
  {
   "cell_type": "code",
   "execution_count": null,
   "metadata": {},
   "outputs": [],
   "source": [
    "import poppy\n",
    "import astropy.units as u\n",
    "\n",
    "def fresnel_poppy(it, N):\n",
    "    wf = poppy.FresnelWavefront(diameter * u.m, wavelength=wavelength, npix=N, oversample=1)\n",
    "    wf *= poppy.CircularAperture(radius=pupil_diameter / 2)\n",
    "\n",
    "    for _ in it:\n",
    "        wf2 = wf.copy()\n",
    "        wf2.propagate_fresnel(distance)\n",
    "\n",
    "    return wf2.intensity\n",
    "\n",
    "bm.run(fresnel_poppy, 'poppy')"
   ]
  },
  {
   "cell_type": "code",
   "execution_count": null,
   "metadata": {},
   "outputs": [],
   "source": [
    "bm.plot()"
   ]
  },
  {
   "cell_type": "code",
   "execution_count": null,
   "metadata": {},
   "outputs": [],
   "source": []
  }
 ],
 "metadata": {
  "kernelspec": {
   "display_name": "dev",
   "language": "python",
   "name": "python3"
  },
  "language_info": {
   "codemirror_mode": {
    "name": "ipython",
    "version": 3
   },
   "file_extension": ".py",
   "mimetype": "text/x-python",
   "name": "python",
   "nbconvert_exporter": "python",
   "pygments_lexer": "ipython3",
   "version": "3.10.15"
  }
 },
 "nbformat": 4,
 "nbformat_minor": 2
}
