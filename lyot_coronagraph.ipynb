{
 "cells": [
  {
   "cell_type": "code",
   "execution_count": null,
   "metadata": {},
   "outputs": [],
   "source": [
    "from benchmark import Benchmark, FixedIterator\n",
    "\n",
    "bm = Benchmark('FPM', 'N', [2**i for i in range(6, 13)], t_min=0.5)"
   ]
  },
  {
   "cell_type": "code",
   "execution_count": null,
   "metadata": {},
   "outputs": [],
   "source": [
    "# Physical parameters\n",
    "diameter = 20e-3\n",
    "pupil_diameter = 10e-3  # m\n",
    "wavelength = 632e-9  # m\n",
    "F_number = 80\n",
    "fpm_diameter = 300e-6  # m\n",
    "\n",
    "focal_length = F_number * pupil_diameter\n",
    "resolution_element = wavelength * F_number\n",
    "\n",
    "# Numerical parameters\n",
    "N = 512\n",
    "q_fpm = 64"
   ]
  },
  {
   "cell_type": "code",
   "execution_count": null,
   "metadata": {},
   "outputs": [],
   "source": [
    "import hcipy\n",
    "\n",
    "def fpm_hcipy(it, N):\n",
    "    pupil_grid = hcipy.make_pupil_grid(N, diameter)\n",
    "\n",
    "    fpm_grid = hcipy.make_focal_grid(q_fpm, fpm_diameter / resolution_element / 2, resolution_element)\n",
    "    fpm = 1 - hcipy.make_circular_aperture(fpm_diameter)(fpm_grid)\n",
    "\n",
    "    coro = hcipy.LyotCoronagraph(pupil_grid, fpm, focal_length=focal_length)\n",
    "\n",
    "    aperture = hcipy.make_circular_aperture(pupil_diameter)(pupil_grid)\n",
    "    wf = hcipy.Wavefront(aperture, wavelength)\n",
    "\n",
    "    for _ in it:\n",
    "        lyot = coro(wf)\n",
    "\n",
    "    return lyot.electric_field\n",
    "\n",
    "bm.run(fpm_hcipy, 'hcipy')\n",
    "\n",
    "hcipy.imshow_field(fpm_hcipy(FixedIterator(), 512))"
   ]
  },
  {
   "cell_type": "code",
   "execution_count": null,
   "metadata": {},
   "outputs": [],
   "source": [
    "from prysm.coordinates import make_xy_grid, cart_to_polar\n",
    "from prysm.geometry import circle\n",
    "from prysm.propagation import Wavefront\n",
    "\n",
    "def fpm_prysm(it, N):\n",
    "    xi, eta = make_xy_grid(N, diameter=diameter * 1e3)\n",
    "\n",
    "    r, t = cart_to_polar(xi, eta)\n",
    "    A = circle(pupil_diameter * 1e3 / 2, r)\n",
    "\n",
    "    dx = xi[0, 1] - xi[0, 0]\n",
    "\n",
    "    wf = Wavefront.from_amp_and_phase(A, None, wavelength * 1e6, dx)\n",
    "\n",
    "    N_fpm = q_fpm * fpm_diameter / resolution_element\n",
    "\n",
    "    xi_fpm, eta_fpm = make_xy_grid(N_fpm, diameter=diameter * 1e3)\n",
    "    dx_fpm = xi_fpm[0, 1] - xi_fpm[0, 0]\n",
    "\n",
    "    r_fpm, t = cart_to_polar(xi_fpm, eta_fpm)\n",
    "\n",
    "    fpm = 1 - circle(fpm_diameter * 1e3 / 2, r_fpm)\n",
    "\n",
    "    for _ in it:\n",
    "        E = wf.to_fpm_and_back(focal_length * 1e3, 1 - fpm, dx_fpm)\n",
    "\n",
    "    return E.data\n",
    "\n",
    "bm.run(fpm_prysm, 'prysm')"
   ]
  },
  {
   "cell_type": "code",
   "execution_count": null,
   "metadata": {},
   "outputs": [],
   "source": [
    "bm.plot()"
   ]
  },
  {
   "cell_type": "code",
   "execution_count": null,
   "metadata": {},
   "outputs": [],
   "source": []
  }
 ],
 "metadata": {
  "kernelspec": {
   "display_name": "dev",
   "language": "python",
   "name": "python3"
  },
  "language_info": {
   "codemirror_mode": {
    "name": "ipython",
    "version": 3
   },
   "file_extension": ".py",
   "mimetype": "text/x-python",
   "name": "python",
   "nbconvert_exporter": "python",
   "pygments_lexer": "ipython3",
   "version": "3.10.15"
  }
 },
 "nbformat": 4,
 "nbformat_minor": 2
}
