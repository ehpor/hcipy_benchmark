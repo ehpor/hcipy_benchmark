{
 "cells": [
  {
   "cell_type": "code",
   "execution_count": null,
   "metadata": {},
   "outputs": [],
   "source": [
    "from benchmark import Benchmark\n",
    "\n",
    "bm = Benchmark('FFT', 'N', [2**i for i in range(6, 13)], t_min=1)"
   ]
  },
  {
   "cell_type": "code",
   "execution_count": null,
   "metadata": {},
   "outputs": [],
   "source": [
    "import numpy as np\n",
    "\n",
    "def numpy_fft(it, N):\n",
    "    a = np.zeros((N, N), dtype='complex128')\n",
    "\n",
    "    for _ in it:\n",
    "        np.fft.fftn(a)\n",
    "\n",
    "bm.run(numpy_fft, 'numpy')"
   ]
  },
  {
   "cell_type": "code",
   "execution_count": null,
   "metadata": {},
   "outputs": [],
   "source": [
    "import hcipy\n",
    "\n",
    "def hcipy_fft(it, N):\n",
    "    a = np.zeros((N, N), dtype='complex128')\n",
    "\n",
    "    for _ in it:\n",
    "        hcipy._math.fft.fftn(a)\n",
    "\n",
    "bm.run(hcipy_fft, 'hcipy')"
   ]
  },
  {
   "cell_type": "code",
   "execution_count": null,
   "metadata": {},
   "outputs": [],
   "source": [
    "import hcipy\n",
    "\n",
    "def hcipy_fft_inplace(it, N):\n",
    "    a = np.zeros((N, N), dtype='complex128')\n",
    "\n",
    "    for _ in it:\n",
    "        hcipy._math.fft.fftn(a, overwrite_x=True)\n",
    "\n",
    "bm.run(hcipy_fft_inplace, 'hcipy_inplace')"
   ]
  },
  {
   "cell_type": "code",
   "execution_count": null,
   "metadata": {},
   "outputs": [],
   "source": [
    "import scipy.fft\n",
    "\n",
    "for n in [1,2,4,8,12]:\n",
    "    def scipy_fft(it, N):\n",
    "        a = np.zeros((N, N), dtype='complex128')\n",
    "\n",
    "        for _ in it:\n",
    "            scipy.fft.fftn(a, workers=n, overwrite_x=True)\n",
    "\n",
    "    bm.run(scipy_fft, f'scipy_{n}workers')"
   ]
  },
  {
   "cell_type": "code",
   "execution_count": null,
   "metadata": {},
   "outputs": [],
   "source": [
    "import pyfftw.interfaces.scipy_fft as fftw\n",
    "import numpy as np\n",
    "\n",
    "for n in [1,2,4,8,12]:\n",
    "    def fftw_fft(it, N):\n",
    "        a = np.zeros((N, N), dtype='complex128')\n",
    "\n",
    "        for _ in it:\n",
    "            fftw.fftn(a, workers=n, overwrite_x=True)\n",
    "\n",
    "    bm.run(fftw_fft, f'fftw_{n}workers')"
   ]
  },
  {
   "cell_type": "code",
   "execution_count": null,
   "metadata": {},
   "outputs": [],
   "source": [
    "bm.plot()"
   ]
  },
  {
   "cell_type": "code",
   "execution_count": null,
   "metadata": {},
   "outputs": [],
   "source": []
  }
 ],
 "metadata": {
  "kernelspec": {
   "display_name": "dev",
   "language": "python",
   "name": "python3"
  },
  "language_info": {
   "codemirror_mode": {
    "name": "ipython",
    "version": 3
   },
   "file_extension": ".py",
   "mimetype": "text/x-python",
   "name": "python",
   "nbconvert_exporter": "python",
   "pygments_lexer": "ipython3",
   "version": "3.10.15"
  }
 },
 "nbformat": 4,
 "nbformat_minor": 2
}
