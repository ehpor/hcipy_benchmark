{
 "cells": [
  {
   "cell_type": "code",
   "execution_count": null,
   "metadata": {},
   "outputs": [],
   "source": [
    "from benchmark import Benchmark\n",
    "\n",
    "bm = Benchmark('Fraunhofer Propagation', 'N', [2**i for i in range(6, 13)], t_min=0.5)"
   ]
  },
  {
   "cell_type": "code",
   "execution_count": null,
   "metadata": {},
   "outputs": [],
   "source": [
    "# Physical parameters\n",
    "F_number = 10\n",
    "wavelength = 632e-9 # m\n",
    "diameter = 10e-3 # m\n",
    "\n",
    "focal_length = F_number * diameter\n",
    "resolution_element = wavelength * F_number\n",
    "\n",
    "# Numerical parameters\n",
    "N = 1024\n",
    "q = 1\n",
    "num_airy =  32"
   ]
  },
  {
   "cell_type": "code",
   "execution_count": null,
   "metadata": {},
   "outputs": [],
   "source": [
    "import hcipy\n",
    "\n",
    "def fraunhofer_hcipy(it, N):\n",
    "    pupil_grid = hcipy.make_pupil_grid(N, diameter=diameter)\n",
    "\n",
    "    aperture = hcipy.make_circular_aperture(diameter=diameter)(pupil_grid)\n",
    "    wf_hcipy = hcipy.Wavefront(aperture, wavelength)\n",
    "\n",
    "    focal_grid = hcipy.make_focal_grid(q, num_airy, resolution_element)\n",
    "    prop = hcipy.FraunhoferPropagator(pupil_grid, focal_grid, focal_length)\n",
    "\n",
    "    for _ in it:\n",
    "        wf_out = prop(wf_hcipy)\n",
    "\n",
    "    psf = wf_out.intensity.shaped\n",
    "    psf /= psf.max()\n",
    "\n",
    "    return psf\n",
    "\n",
    "bm.run(fraunhofer_hcipy, 'hcipy')"
   ]
  },
  {
   "cell_type": "code",
   "execution_count": null,
   "metadata": {},
   "outputs": [],
   "source": [
    "from prysm.coordinates import make_xy_grid, cart_to_polar\n",
    "from prysm.geometry import circle\n",
    "from prysm.propagation import Wavefront\n",
    "\n",
    "def fraunhofer_prysm(it, N):\n",
    "    xi, eta = make_xy_grid(N, diameter=diameter * 1e3)\n",
    "\n",
    "    r, t = cart_to_polar(xi, eta)\n",
    "    A = circle(diameter * 1e3 / 2, r)\n",
    "\n",
    "    dx = xi[0, 1] - xi[0, 0]\n",
    "\n",
    "    wf_prysm = Wavefront.from_amp_and_phase(A, None, wavelength * 1e6, dx)\n",
    "\n",
    "    for _ in it:\n",
    "        E = wf_prysm.focus_fixed_sampling(focal_length * 1e3, resolution_element / q * 1e6, 2 * num_airy * q)\n",
    "\n",
    "    psf = E.intensity.data\n",
    "    psf /= psf.max()\n",
    "\n",
    "    return psf\n",
    "\n",
    "bm.run(fraunhofer_prysm, 'prysm')"
   ]
  },
  {
   "cell_type": "code",
   "execution_count": null,
   "metadata": {},
   "outputs": [],
   "source": [
    "import poppy\n",
    "import numpy as np\n",
    "\n",
    "def fraunhofer_poppy(it, N):\n",
    "    arcsec_per_px = np.rad2deg(wavelength / diameter) * 3600 / q\n",
    "    fov_arcsec = num_airy * arcsec_per_px * q * 2\n",
    "\n",
    "    wf = poppy.Wavefront(wavelength, npix=N, oversample=1)\n",
    "    wf *= poppy.CircularAperture(radius=diameter / 2)\n",
    "\n",
    "    detector = poppy.Detector(arcsec_per_px, fov_arcsec=fov_arcsec, oversample=1)\n",
    "\n",
    "    for _ in it:\n",
    "        wf2 = wf.copy()\n",
    "        wf2.propagate_to(detector)\n",
    "\n",
    "    psf = wf2.intensity\n",
    "    psf /= psf.max()\n",
    "\n",
    "    return psf\n",
    "\n",
    "bm.run(fraunhofer_poppy, 'poppy')"
   ]
  },
  {
   "cell_type": "code",
   "execution_count": null,
   "metadata": {},
   "outputs": [],
   "source": [
    "bm.plot()"
   ]
  },
  {
   "cell_type": "code",
   "execution_count": null,
   "metadata": {},
   "outputs": [],
   "source": []
  }
 ],
 "metadata": {
  "kernelspec": {
   "display_name": "dev",
   "language": "python",
   "name": "python3"
  },
  "language_info": {
   "codemirror_mode": {
    "name": "ipython",
    "version": 3
   },
   "file_extension": ".py",
   "mimetype": "text/x-python",
   "name": "python",
   "nbconvert_exporter": "python",
   "pygments_lexer": "ipython3",
   "version": "3.10.15"
  }
 },
 "nbformat": 4,
 "nbformat_minor": 2
}
